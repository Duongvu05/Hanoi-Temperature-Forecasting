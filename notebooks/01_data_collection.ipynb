{
 "cells": [
  {
   "cell_type": "markdown",
   "id": "2a8d2dda",
   "metadata": {},
   "source": [
    "# Hanoi Weather Data Collection\n",
    "\n",
    "This notebook demonstrates how to collect historical weather data for Hanoi from the Visual Crossing Weather API. We'll gather 10+ years of daily weather data with 33+ features that will be used for temperature forecasting.\n",
    "\n",
    "## Objectives\n",
    "1. Set up API connection to Visual Crossing Weather API\n",
    "2. Collect 10 years of daily weather data for Hanoi\n",
    "3. Understand the 33+ weather features available\n",
    "4. Validate and explore the collected data\n",
    "5. Save data for further processing\n",
    "\n",
    "#### **Note:** \n",
    "- This notebook is just the pseudocode for the data collection, the limit of records depends on your plan.\n",
    "-  With the Visual Crossing Weather API, users on a free plan have a limit of 1000 records per day. Beyond that, they are billed for additional records if they are on a metered plan."
   ]
  },
  {
   "cell_type": "markdown",
   "id": "1226d002",
   "metadata": {},
   "source": [
    "## 1. Setup and Imports"
   ]
  },
  {
   "cell_type": "code",
   "execution_count": null,
   "id": "31cfb96a",
   "metadata": {},
   "outputs": [],
   "source": [
    "# Import required libraries\n",
    "import pandas as pd\n",
    "import numpy as np\n",
    "import requests\n",
    "import matplotlib.pyplot as plt\n",
    "import seaborn as sns\n",
    "from datetime import datetime, timedelta\n",
    "import time\n",
    "import os\n",
    "import json\n",
    "from dotenv import load_dotenv\n",
    "import warnings\n",
    "warnings.filterwarnings('ignore')\n",
    "import urllib.request\n",
    "import csv\n",
    "import codecs\n",
    "\n",
    "# Load environment variables\n",
    "load_dotenv()\n",
    "\n",
    "# Set up plotting style\n",
    "plt.style.use('seaborn-v0_8')\n",
    "plt.rcParams['figure.figsize'] = (12, 8)\n",
    "sns.set_palette(\"husl\")\n",
    "\n",
    "print(\"All libraries imported successfully!\")"
   ]
  },
  {
   "cell_type": "markdown",
   "id": "4767296f",
   "metadata": {},
   "source": [
    "## 2. API Configuration\n",
    "\n",
    "Visual Crossing Weather API provides comprehensive historical weather data. We'll configure our API connection and understand the available parameters."
   ]
  },
  {
   "cell_type": "code",
   "execution_count": null,
   "id": "68beb181",
   "metadata": {},
   "outputs": [],
   "source": [
    "# API Configuration\n",
    "API_KEY = os.getenv('VISUAL_CROSSING_API_KEY')  \n",
    "BASE_URL = \"https://weather.visualcrossing.com/VisualCrossingWebServices/rest/services/timeline\"\n",
    "LOCATION = \"Hanoi,Vietnam\"\n",
    "\n",
    "if not API_KEY:\n",
    "    print(\"⚠️ Warning: API key not found!\")\n",
    "    print(\"Please set VISUAL_CROSSING_API_KEY in your .env file\")\n",
    "    print(\"You can get a free API key from: https://www.visualcrossing.com/weather/weather-data-services\")\n",
    "    API_KEY = input(\"Or enter your API key here: \")\n",
    "\n",
    "print(f\"API configured for location: {LOCATION}\")\n",
    "print(f\"Base URL: {BASE_URL}\")"
   ]
  },
  {
   "cell_type": "markdown",
   "id": "8bb4f698",
   "metadata": {},
   "source": [
    "## 3. Collect 10 Years of Daily Weather Data"
   ]
  },
  {
   "cell_type": "code",
   "execution_count": 2,
   "id": "03fbb497",
   "metadata": {},
   "outputs": [
    {
     "name": "stdout",
     "output_type": "stream",
     "text": [
      "HTTP error: 429, b'Maximum daily cost exceeded'\n"
     ]
    }
   ],
   "source": [
    "import urllib.request\n",
    "import csv\n",
    "import codecs\n",
    "\n",
    "# Setting up request parameters\n",
    "base_url = 'https://weather.visualcrossing.com/VisualCrossingWebServices/rest/services/timeline/'\n",
    "location = 'Hanoi'\n",
    "start_date = '2015-10-01'\n",
    "end_date = '2025-10-01'\n",
    "api_key = '5C23SD4W88AF8BSYC9RFVL7RP'\n",
    "unit_group = 'metric'\n",
    "content_type = 'csv'\n",
    "include = 'days'\n",
    "\n",
    "# Constructing the API URL\n",
    "url = f\"{base_url}{location}/{start_date}/{end_date}?key={api_key}&unitGroup={unit_group}&contentType={content_type}&include={include}\"\n",
    "\n",
    "try:\n",
    "    # Open the URL\n",
    "    with urllib.request.urlopen(url) as response:\n",
    "        reader = csv.reader(codecs.iterdecode(response, 'utf-8'))\n",
    "        \n",
    "        # Iterate and print each row of CSV\n",
    "        for row in reader:\n",
    "            print(row)\n",
    "except urllib.error.HTTPError as e:\n",
    "    error_message = e.read()\n",
    "    print(f\"HTTP error: {e.code}, {error_message}\")\n",
    "except urllib.error.URLError as e:\n",
    "    print(f\"URL error: {e.reason}\")"
   ]
  }
 ],
 "metadata": {
  "kernelspec": {
   "display_name": ".venv",
   "language": "python",
   "name": "python3"
  },
  "language_info": {
   "codemirror_mode": {
    "name": "ipython",
    "version": 3
   },
   "file_extension": ".py",
   "mimetype": "text/x-python",
   "name": "python",
   "nbconvert_exporter": "python",
   "pygments_lexer": "ipython3",
   "version": "3.13.5"
  }
 },
 "nbformat": 4,
 "nbformat_minor": 5
}
