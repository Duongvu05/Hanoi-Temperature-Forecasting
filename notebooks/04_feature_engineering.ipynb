{
 "cells": [
  {
   "cell_type": "markdown",
   "id": "50908e8d",
   "metadata": {},
   "source": [
    "# Hanoi Weather Data - Feature Engineering\n",
    "\n",
    "This notebook creates advanced features for time series temperature forecasting, including lag features, rolling statistics, cyclical encodings, and weather-specific derived features.\n",
    "\n",
    "## Objectives\n",
    "1. Create temporal lag features for time series modeling\n",
    "2. Generate rolling statistics and moving averages\n",
    "3. Apply cyclical encoding for seasonal patterns\n",
    "4. Engineer weather-specific features\n",
    "5. Feature selection and importance analysis\n",
    "6. Export engineered features for modeling"
   ]
  },
  {
   "cell_type": "markdown",
   "id": "946ad918",
   "metadata": {},
   "source": [
    "## 1. Setup and Imports"
   ]
  },
  {
   "cell_type": "code",
   "execution_count": null,
   "id": "d47b163e",
   "metadata": {},
   "outputs": [],
   "source": [
    "# Import libraries for feature engineering\n",
    "import pandas as pd\n",
    "import numpy as np\n",
    "import matplotlib.pyplot as plt\n",
    "import seaborn as sns\n",
    "from sklearn.preprocessing import StandardScaler, LabelEncoder\n",
    "from sklearn.feature_selection import mutual_info_regression, SelectKBest\n",
    "import warnings\n",
    "\n",
    "# Configure settings\n",
    "warnings.filterwarnings('ignore')\n",
    "pd.set_option('display.max_columns', None)\n",
    "\n",
    "print(\"🔧 FEATURE ENGINEERING SETUP\")\n",
    "print(\"=\" * 35)\n",
    "print(\"✅ Libraries imported successfully!\")\n",
    "print(f\"📊 Pandas version: {pd.__version__}\")\n",
    "print(f\"🤖 Scikit-learn available for feature selection\")"
   ]
  },
  {
   "cell_type": "markdown",
   "id": "8c3bcdda",
   "metadata": {},
   "source": [
    "## 2. Load Processed Data"
   ]
  },
  {
   "cell_type": "code",
   "execution_count": null,
   "id": "964a11d3",
   "metadata": {},
   "outputs": [],
   "source": [
    "# Load cleaned data (from data processing step)\n",
    "df = pd.read_csv('../data/raw/daily_data.csv')  # Will be updated to use processed data\n",
    "df['datetime'] = pd.to_datetime(df['datetime'])\n",
    "\n",
    "# Sort by date for time series operations\n",
    "df = df.sort_values('datetime').reset_index(drop=True)\n",
    "\n",
    "# Create basic temporal features\n",
    "df['year'] = df['datetime'].dt.year\n",
    "df['month'] = df['datetime'].dt.month\n",
    "df['day_of_year'] = df['datetime'].dt.dayofyear\n",
    "df['day_of_week'] = df['datetime'].dt.dayofweek\n",
    "\n",
    "print(\"📊 BASE DATA LOADED:\")\n",
    "print(f\"Shape: {df.shape}\")\n",
    "print(f\"Date range: {df['datetime'].min().date()} to {df['datetime'].max().date()}\")\n",
    "print(f\"Temporal features created: year, month, day_of_year, day_of_week\")"
   ]
  },
  {
   "cell_type": "markdown",
   "id": "bd5e7e31",
   "metadata": {},
   "source": [
    "## 3. Time Series Lag Features"
   ]
  },
  {
   "cell_type": "code",
   "execution_count": null,
   "id": "a09d72e8",
   "metadata": {},
   "outputs": [],
   "source": [
    "# Create lag features for time series forecasting\n",
    "print(\"⏰ CREATING LAG FEATURES\")\n",
    "print(\"=\" * 30)\n",
    "\n",
    "# Temperature lag features (key for time series prediction)\n",
    "df['temp_lag1'] = df['temp'].shift(1)      # Previous day\n",
    "df['temp_lag2'] = df['temp'].shift(2)      # 2 days ago  \n",
    "df['temp_lag3'] = df['temp'].shift(3)      # 3 days ago\n",
    "df['temp_lag7'] = df['temp'].shift(7)      # 1 week ago\n",
    "\n",
    "# Temperature extremes lag features\n",
    "if all(col in df.columns for col in ['tempmax', 'tempmin']):\n",
    "    df['tempmax_lag1'] = df['tempmax'].shift(1)\n",
    "    df['tempmin_lag1'] = df['tempmin'].shift(1)\n",
    "    df['temp_range'] = df['tempmax'] - df['tempmin']\n",
    "    df['temp_range_lag1'] = df['temp_range'].shift(1)\n",
    "\n",
    "# Weather variables lag features\n",
    "weather_vars = ['humidity', 'precip', 'windspeed', 'sealevelpressure', 'cloudcover']\n",
    "for var in weather_vars:\n",
    "    if var in df.columns:\n",
    "        df[f'{var}_lag1'] = df[var].shift(1)\n",
    "\n",
    "print(\"✅ Lag features created:\")\n",
    "lag_features = [col for col in df.columns if 'lag' in col]\n",
    "for i, feature in enumerate(lag_features, 1):\n",
    "    print(f\"  {i:2d}. {feature}\")\n",
    "\n",
    "print(f\"\\n📊 Total lag features: {len(lag_features)}\")"
   ]
  }
 ],
 "metadata": {
  "language_info": {
   "name": "python"
  }
 },
 "nbformat": 4,
 "nbformat_minor": 5
}
