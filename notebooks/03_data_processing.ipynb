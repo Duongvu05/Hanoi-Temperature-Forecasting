{
 "cells": [
  {
   "cell_type": "markdown",
   "id": "86e945af",
   "metadata": {},
   "source": [
    "# Hanoi Weather Data - Data Processing\n",
    "\n",
    "This notebook handles data cleaning, preprocessing, and preparation for feature engineering and modeling.\n",
    "\n",
    "## Objectives\n",
    "1. Load and clean the raw weather data\n",
    "2. Handle missing values and outliers\n",
    "3. Data type conversions and validation\n",
    "4. Create base temporal features\n",
    "5. Data quality checks and validation\n",
    "6. Export cleaned data for feature engineering"
   ]
  },
  {
   "cell_type": "markdown",
   "id": "5667736d",
   "metadata": {},
   "source": [
    "## 1. Setup and Imports"
   ]
  },
  {
   "cell_type": "code",
   "execution_count": 1,
   "id": "f0fc2665",
   "metadata": {},
   "outputs": [],
   "source": [
    "import pandas as pd\n",
    "import numpy as np\n",
    "import matplotlib.pyplot as plt\n",
    "import seaborn as sns\n",
    "from sklearn.base import BaseEstimator, TransformerMixin\n",
    "import warnings\n",
    "import os\n",
    "\n",
    "# Configure settings\n",
    "warnings.filterwarnings('ignore')\n",
    "pd.set_option('display.max_columns', None)"
   ]
  },
  {
   "cell_type": "markdown",
   "id": "0ba37e59",
   "metadata": {},
   "source": [
    "## 2. Data Loading and Initial Cleaning"
   ]
  },
  {
   "cell_type": "code",
   "execution_count": 2,
   "id": "3c42df4a",
   "metadata": {},
   "outputs": [
    {
     "name": "stdout",
     "output_type": "stream",
     "text": [
      "RAW DATA OVERVIEW:\n",
      "Shape: (3654, 33)\n",
      "Date range: 2015-10-01 to 2025-10-01\n",
      "\n",
      "DATA QUALITY CHECK:\n",
      "Missing values per column:\n",
      "  severerisk: 2654 (72.6%)\n",
      "  preciptype: 987 (27.0%)\n",
      "\n",
      "Duplicate records: 0\n",
      "\n",
      "DATA TYPES:\n",
      "<class 'pandas.core.frame.DataFrame'>\n",
      "RangeIndex: 3654 entries, 0 to 3653\n",
      "Data columns (total 33 columns):\n",
      " #   Column            Non-Null Count  Dtype  \n",
      "---  ------            --------------  -----  \n",
      " 0   name              3654 non-null   object \n",
      " 1   datetime          3654 non-null   object \n",
      " 2   tempmax           3654 non-null   float64\n",
      " 3   tempmin           3654 non-null   float64\n",
      " 4   temp              3654 non-null   float64\n",
      " 5   feelslikemax      3654 non-null   float64\n",
      " 6   feelslikemin      3654 non-null   float64\n",
      " 7   feelslike         3654 non-null   float64\n",
      " 8   dew               3654 non-null   float64\n",
      " 9   humidity          3654 non-null   float64\n",
      " 10  precip            3654 non-null   float64\n",
      " 11  precipprob        3654 non-null   int64  \n",
      " 12  precipcover       3654 non-null   float64\n",
      " 13  preciptype        2667 non-null   object \n",
      " 14  snow              3654 non-null   int64  \n",
      " 15  snowdepth         3654 non-null   int64  \n",
      " 16  windgust          3654 non-null   float64\n",
      " 17  windspeed         3654 non-null   float64\n",
      " 18  winddir           3654 non-null   float64\n",
      " 19  sealevelpressure  3654 non-null   float64\n",
      " 20  cloudcover        3654 non-null   float64\n",
      " 21  visibility        3654 non-null   float64\n",
      " 22  solarradiation    3654 non-null   float64\n",
      " 23  solarenergy       3654 non-null   float64\n",
      " 24  uvindex           3654 non-null   int64  \n",
      " 25  severerisk        1000 non-null   float64\n",
      " 26  sunrise           3654 non-null   object \n",
      " 27  sunset            3654 non-null   object \n",
      " 28  moonphase         3654 non-null   float64\n",
      " 29  conditions        3654 non-null   object \n",
      " 30  description       3654 non-null   object \n",
      " 31  icon              3654 non-null   object \n",
      " 32  stations          3654 non-null   object \n",
      "dtypes: float64(20), int64(4), object(9)\n",
      "memory usage: 942.2+ KB\n",
      "None\n"
     ]
    }
   ],
   "source": [
    "# Load raw data\n",
    "df_raw = pd.read_csv('../data/raw/daily_data.csv')\n",
    "\n",
    "print(\"RAW DATA OVERVIEW:\")\n",
    "print(f\"Shape: {df_raw.shape}\")\n",
    "print(f\"Date range: {df_raw['datetime'].min()} to {df_raw['datetime'].max()}\")\n",
    "\n",
    "# Check data types and missing values\n",
    "print(f\"\\nDATA QUALITY CHECK:\")\n",
    "print(f\"Missing values per column:\")\n",
    "missing_summary = df_raw.isnull().sum()\n",
    "missing_summary = missing_summary[missing_summary > 0].sort_values(ascending=False)\n",
    "if len(missing_summary) > 0:\n",
    "    for col, count in missing_summary.items():\n",
    "        pct = (count / len(df_raw)) * 100\n",
    "        print(f\"  {col}: {count} ({pct:.1f}%)\")\n",
    "else:\n",
    "    print(\"No missing values found!\")\n",
    "\n",
    "print(f\"\\nDuplicate records: {df_raw.duplicated().sum()}\")\n",
    "\n",
    "# Data information\n",
    "print(f\"\\nDATA TYPES:\")\n",
    "print(df_raw.info())\n"
   ]
  },
  {
   "cell_type": "markdown",
   "id": "89ccc43c",
   "metadata": {},
   "source": [
    "### Missing Values Analysis"
   ]
  },
  {
   "cell_type": "code",
   "execution_count": 3,
   "id": "7c6a825c",
   "metadata": {},
   "outputs": [
    {
     "name": "stdout",
     "output_type": "stream",
     "text": [
      "PRECIPTYPE ANALYSIS:\n",
      "Value counts:\n",
      "preciptype\n",
      "rain    2667\n",
      "Name: count, dtype: int64\n",
      "NaN values: 987\n",
      "\n",
      "Cross-check with precip amount:\n",
      "When preciptype is NaN:\n",
      "  - Average precip: 0.000 mm\n",
      "  - Max precip: 0.000 mm\n",
      "  - Days with precip > 0: 0\n",
      "When preciptype is 'rain':\n",
      "  - Average precip: 7.230 mm\n",
      "  - Min precip: 0.000 mm\n",
      "\n",
      "AFTER PROCESSING:\n",
      "Preciptype distribution:\n",
      "preciptype\n",
      "rain    2667\n",
      "none     987\n",
      "Name: count, dtype: int64\n"
     ]
    }
   ],
   "source": [
    "# preciptype column\n",
    "print(\"PRECIPTYPE ANALYSIS:\")\n",
    "print(\"Value counts:\")\n",
    "print(df_raw['preciptype'].value_counts())\n",
    "print(f\"NaN values: {df_raw['preciptype'].isnull().sum()}\")\n",
    "\n",
    "# Check relationship with precipitation amount\n",
    "print(f\"\\nCross-check with precip amount:\")\n",
    "print(\"When preciptype is NaN:\")\n",
    "no_preciptype = df_raw[df_raw['preciptype'].isnull()]\n",
    "print(f\"  - Average precip: {no_preciptype['precip'].mean():.3f} mm\")\n",
    "print(f\"  - Max precip: {no_preciptype['precip'].max():.3f} mm\")\n",
    "print(f\"  - Days with precip > 0: {(no_preciptype['precip'] > 0).sum()}\")\n",
    "\n",
    "print(\"When preciptype is 'rain':\")\n",
    "has_preciptype = df_raw[df_raw['preciptype'].notna()]\n",
    "print(f\"  - Average precip: {has_preciptype['precip'].mean():.3f} mm\")\n",
    "print(f\"  - Min precip: {has_preciptype['precip'].min():.3f} mm\")\n",
    "\n",
    "df = df_raw.copy()\n",
    "\n",
    "# Fill NaN with 'none' (no precipitation)\n",
    "df['preciptype'] = df['preciptype'].fillna('none')\n",
    "\n",
    "print(f\"\\nAFTER PROCESSING:\")\n",
    "print(\"Preciptype distribution:\")\n",
    "print(df['preciptype'].value_counts())"
   ]
  },
  {
   "cell_type": "markdown",
   "id": "9eef5df5",
   "metadata": {},
   "source": [
    "**`Preciptype` column analysis:**\n",
    "- Contains only 'rain' values and NaN\n",
    "- **Key insight**: All NaN values correspond to days with 0mm precipitation\n",
    "- **Solution**: Fill NaN with 'none' (meaning no precipitation)\n",
    "- **Validation**: Perfect correlation between NaN preciptype and zero precipitation amount"
   ]
  },
  {
   "cell_type": "markdown",
   "id": "8bd5fe68",
   "metadata": {},
   "source": [
    "### Convert datetime columns and Remove low-variance column"
   ]
  },
  {
   "cell_type": "code",
   "execution_count": 4,
   "id": "4aefd7a3",
   "metadata": {},
   "outputs": [
    {
     "name": "stdout",
     "output_type": "stream",
     "text": [
      "\n",
      "⚠️ Dropping 3 columns with 0 variance or 1 unique value:\n",
      "  - name (unique values: 1)\n",
      "  - snow (unique values: 1)\n",
      "  - snowdepth (unique values: 1)\n",
      "\n",
      "FEATURE TYPES AFTER CLEANING:\n",
      "<class 'pandas.core.frame.DataFrame'>\n",
      "RangeIndex: 3654 entries, 0 to 3653\n",
      "Data columns (total 30 columns):\n",
      " #   Column            Non-Null Count  Dtype         \n",
      "---  ------            --------------  -----         \n",
      " 0   datetime          3654 non-null   datetime64[ns]\n",
      " 1   tempmax           3654 non-null   float64       \n",
      " 2   tempmin           3654 non-null   float64       \n",
      " 3   temp              3654 non-null   float64       \n",
      " 4   feelslikemax      3654 non-null   float64       \n",
      " 5   feelslikemin      3654 non-null   float64       \n",
      " 6   feelslike         3654 non-null   float64       \n",
      " 7   dew               3654 non-null   float64       \n",
      " 8   humidity          3654 non-null   float64       \n",
      " 9   precip            3654 non-null   float64       \n",
      " 10  precipprob        3654 non-null   int64         \n",
      " 11  precipcover       3654 non-null   float64       \n",
      " 12  preciptype        3654 non-null   object        \n",
      " 13  windgust          3654 non-null   float64       \n",
      " 14  windspeed         3654 non-null   float64       \n",
      " 15  winddir           3654 non-null   float64       \n",
      " 16  sealevelpressure  3654 non-null   float64       \n",
      " 17  cloudcover        3654 non-null   float64       \n",
      " 18  visibility        3654 non-null   float64       \n",
      " 19  solarradiation    3654 non-null   float64       \n",
      " 20  solarenergy       3654 non-null   float64       \n",
      " 21  uvindex           3654 non-null   int64         \n",
      " 22  severerisk        1000 non-null   float64       \n",
      " 23  sunrise           3654 non-null   datetime64[ns]\n",
      " 24  sunset            3654 non-null   datetime64[ns]\n",
      " 25  moonphase         3654 non-null   float64       \n",
      " 26  conditions        3654 non-null   object        \n",
      " 27  description       3654 non-null   object        \n",
      " 28  icon              3654 non-null   object        \n",
      " 29  stations          3654 non-null   object        \n",
      "dtypes: datetime64[ns](3), float64(20), int64(2), object(5)\n",
      "memory usage: 856.5+ KB\n",
      "None\n"
     ]
    }
   ],
   "source": [
    "# Convert datetime columns\n",
    "df['datetime'] = pd.to_datetime(df['datetime'])\n",
    "df['sunrise'] = pd.to_datetime(df['sunrise'])\n",
    "df['sunset'] = pd.to_datetime(df['sunset'])\n",
    "\n",
    "# Sort chronologically\n",
    "df = df.sort_values('datetime').reset_index(drop=True)\n",
    "\n",
    "# Remove low-variance column\n",
    "low_var_cols = [col for col in df.columns if df[col].nunique() <= 1]\n",
    "if low_var_cols:\n",
    "    print(f\"\\n⚠️ Dropping {len(low_var_cols)} columns with 0 variance or 1 unique value:\")\n",
    "    for col in low_var_cols:\n",
    "        print(f\"  - {col} (unique values: {df[col].nunique()})\")\n",
    "    df = df.drop(columns=low_var_cols)\n",
    "else:\n",
    "    print(\"\\n✅ No constant or single-value columns found.\")\n",
    "\n",
    "print(f\"\\nFEATURE TYPES AFTER CLEANING:\")\n",
    "print(df.info())"
   ]
  },
  {
   "cell_type": "code",
   "execution_count": 5,
   "id": "f0c798a6",
   "metadata": {},
   "outputs": [
    {
     "name": "stdout",
     "output_type": "stream",
     "text": [
      "Severerisk missing: 2654\n",
      "Series([], dtype: int64)\n"
     ]
    }
   ],
   "source": [
    "# severerisk column\n",
    "print(f\"Severerisk missing: {df['severerisk'].isnull().sum()}\")\n",
    "if df['severerisk'].isnull().sum() > 0:\n",
    "    # Fill with 0 (no severe risk) for missing values\n",
    "    df['severerisk'] = df['severerisk'].fillna(0)\n",
    "\n",
    "# Check for any remaining missing values\n",
    "remaining_missing = df.isnull().sum()\n",
    "remaining_missing = remaining_missing[remaining_missing > 0]\n",
    "print(remaining_missing)"
   ]
  },
  {
   "cell_type": "markdown",
   "id": "08b332a1",
   "metadata": {},
   "source": [
    "## 3. Outlier Detection & Analysis"
   ]
  },
  {
   "cell_type": "code",
   "execution_count": 6,
   "id": "194f0abb",
   "metadata": {},
   "outputs": [
    {
     "name": "stdout",
     "output_type": "stream",
     "text": [
      "OUTLIER ANALYSIS BY VARIABLE:\n",
      "temp           :    3 outliers (  0.1%)\n",
      "                Valid range: 9.15 to 40.75\n",
      "tempmax        :    3 outliers (  0.1%)\n",
      "                Valid range: 10.75 to 46.35\n",
      "tempmin        :    1 outliers (  0.0%)\n",
      "                Valid range: 6.00 to 38.00\n",
      "humidity       :   86 outliers (  2.4%)\n",
      "                Valid range: 51.21 to 106.71\n",
      "precip         :  599 outliers ( 16.4%)\n",
      "                Valid range: -3.81 to 6.35\n",
      "windspeed      :   43 outliers (  1.2%)\n",
      "                Valid range: 0.90 to 28.90\n",
      "sealevelpressure:    1 outliers (  0.0%)\n",
      "                Valid range: 988.20 to 1033.80\n",
      "cloudcover     :   44 outliers (  1.2%)\n",
      "                Valid range: 3.60 to 129.20\n",
      "visibility     :    0 outliers (  0.0%)\n"
     ]
    },
    {
     "data": {
      "image/png": "[encoded data removed]",
      "text/plain": [
       "<Figure size 1500x1000 with 4 Axes>"
      ]
     },
     "metadata": {},
     "output_type": "display_data"
    }
   ],
   "source": [
    "# Define function to detect outliers using IQR method\n",
    "def detect_outliers_iqr(data, column, factor=1.5):\n",
    "    Q1 = data[column].quantile(0.25)\n",
    "    Q3 = data[column].quantile(0.75)\n",
    "    IQR = Q3 - Q1\n",
    "    lower_bound = Q1 - factor * IQR\n",
    "    upper_bound = Q3 + factor * IQR\n",
    "    \n",
    "    outliers = data[(data[column] < lower_bound) | (data[column] > upper_bound)]\n",
    "    return outliers, lower_bound, upper_bound\n",
    "\n",
    "# Key numerical columns to check for outliers\n",
    "numerical_cols = ['temp', 'tempmax', 'tempmin', 'humidity', 'precip', \n",
    "                  'windspeed', 'sealevelpressure', 'cloudcover', 'visibility']\n",
    "\n",
    "outlier_summary = {}\n",
    "\n",
    "print(\"OUTLIER ANALYSIS BY VARIABLE:\")\n",
    "\n",
    "for col in numerical_cols:\n",
    "    if col in df.columns:\n",
    "        outliers, lower, upper = detect_outliers_iqr(df, col)\n",
    "        outlier_count = len(outliers)\n",
    "        outlier_pct = (outlier_count / len(df)) * 100\n",
    "        \n",
    "        outlier_summary[col] = {\n",
    "            'count': outlier_count,\n",
    "            'percentage': outlier_pct,\n",
    "            'lower_bound': lower,\n",
    "            'upper_bound': upper\n",
    "        }\n",
    "        \n",
    "        print(f\"{col:15}: {outlier_count:4d} outliers ({outlier_pct:5.1f}%)\")\n",
    "        if outlier_count > 0:\n",
    "            print(f\"                Valid range: {lower:.2f} to {upper:.2f}\")\n",
    "\n",
    "# Visualize outliers for key temperature variables\n",
    "fig, axes = plt.subplots(2, 2, figsize=(15, 10))\n",
    "fig.suptitle('Outlier Detection - Key Weather Variables', fontsize=16)\n",
    "\n",
    "variables_to_plot = ['temp', 'humidity', 'precip', 'windspeed']\n",
    "for i, var in enumerate(variables_to_plot):\n",
    "    if var in df.columns:\n",
    "        row, col = i // 2, i % 2\n",
    "        \n",
    "        # Box plot\n",
    "        df.boxplot(column=var, ax=axes[row, col])\n",
    "        axes[row, col].set_title(f'{var.title()} - {outlier_summary[var][\"count\"]} outliers')\n",
    "        axes[row, col].grid(True, alpha=0.3)\n",
    "\n",
    "plt.tight_layout()\n",
    "plt.show()"
   ]
  },
  {
   "cell_type": "markdown",
   "id": "d4d7471d",
   "metadata": {},
   "source": [
    "**Insights**\n",
    "- Most weather features are well within physical bounds.\n",
    "- Temperature and pressure are stable and trustworthy.\n",
    "- **precip**: Precipitation requires correction — negative values are invalid.\n",
    "- **humidity**: Humidity and cloudcover may need capping or normalization.\n",
    "- Temperature and pressure are stable and trustworthy."
   ]
  },
  {
   "cell_type": "code",
   "execution_count": 7,
   "id": "11c28cd7",
   "metadata": {},
   "outputs": [],
   "source": [
    "# Clip or clean invalid values\n",
    "\n",
    "df['precip'] = df['precip'].clip(lower=0)\n",
    "df['humidity'] = df['humidity'].clip(upper=100)\n",
    "df['cloudcover'] = df['cloudcover'].clip(upper=100)"
   ]
  },
  {
   "cell_type": "markdown",
   "id": "803b33e9",
   "metadata": {},
   "source": [
    "## 4. Saving Processed Data"
   ]
  },
  {
   "cell_type": "code",
   "execution_count": null,
   "id": "fddcd7c1",
   "metadata": {},
   "outputs": [
    {
     "name": "stdout",
     "output_type": "stream",
     "text": [
      "Cleaned data saved successfully to: ../data/processed/daily_data_clean.csv\n",
      "Shape: (3654, 30)\n"
     ]
    }
   ],
   "source": [
    "# Define path\n",
    "processed_path = '../data/processed/daily_data_cleaned.csv'\n",
    "\n",
    "# Save as csv (recommended)\n",
    "df.to_csv(processed_path, index=False)\n",
    "\n",
    "print(f\"Cleaned data saved successfully to: {processed_path}\")\n",
    "print(f\"Shape: {df.shape}\")"
   ]
  }
 ],
 "metadata": {
  "kernelspec": {
   "display_name": ".venv",
   "language": "python",
   "name": "python3"
  },
  "language_info": {
   "codemirror_mode": {
    "name": "ipython",
    "version": 3
   },
   "file_extension": ".py",
   "mimetype": "text/x-python",
   "name": "python",
   "nbconvert_exporter": "python",
   "pygments_lexer": "ipython3",
   "version": "3.13.5"
  }
 },
 "nbformat": 4,
 "nbformat_minor": 5
}
